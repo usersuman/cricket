{
 "cells": [
  {
   "cell_type": "code",
   "execution_count": 2,
   "id": "4e016a4e",
   "metadata": {},
   "outputs": [],
   "source": [
    "import numpy as np\n",
    "import tensorflow as tf"
   ]
  },
  {
   "cell_type": "code",
   "execution_count": 3,
   "id": "4ad477ef",
   "metadata": {},
   "outputs": [
    {
     "name": "stderr",
     "output_type": "stream",
     "text": [
      "C:\\Users\\SUMAN\\AppData\\Local\\Temp\\ipykernel_15160\\2620048094.py:2: DeprecationWarning: `np.float` is a deprecated alias for the builtin `float`. To silence this warning, use `float` by itself. Doing this will not modify any behavior and is safe. If you specifically wanted the numpy scalar type, use `np.float64` here.\n",
      "Deprecated in NumPy 1.20; for more details and guidance: https://numpy.org/devdocs/release/1.20.0-notes.html#deprecations\n",
      "  train_input,train_target=npz['inputs'].astype(np.float),npz['targets']\n",
      "C:\\Users\\SUMAN\\AppData\\Local\\Temp\\ipykernel_15160\\2620048094.py:4: DeprecationWarning: `np.float` is a deprecated alias for the builtin `float`. To silence this warning, use `float` by itself. Doing this will not modify any behavior and is safe. If you specifically wanted the numpy scalar type, use `np.float64` here.\n",
      "Deprecated in NumPy 1.20; for more details and guidance: https://numpy.org/devdocs/release/1.20.0-notes.html#deprecations\n",
      "  validation_input,validation_target=npz['inputs'].astype(np.float),npz['targets']\n",
      "C:\\Users\\SUMAN\\AppData\\Local\\Temp\\ipykernel_15160\\2620048094.py:6: DeprecationWarning: `np.float` is a deprecated alias for the builtin `float`. To silence this warning, use `float` by itself. Doing this will not modify any behavior and is safe. If you specifically wanted the numpy scalar type, use `np.float64` here.\n",
      "Deprecated in NumPy 1.20; for more details and guidance: https://numpy.org/devdocs/release/1.20.0-notes.html#deprecations\n",
      "  test_input,test_target=npz['inputs'].astype(np.float),npz['targets']\n"
     ]
    }
   ],
   "source": [
    "npz=np.load('david_train_data.npz')\n",
    "train_input,train_target=npz['inputs'].astype(np.float),npz['targets']\n",
    "npz=np.load('david_validation_data.npz')\n",
    "validation_input,validation_target=npz['inputs'].astype(np.float),npz['targets']\n",
    "npz=np.load('david_test_data.npz')\n",
    "test_input,test_target=npz['inputs'].astype(np.float),npz['targets']"
   ]
  },
  {
   "cell_type": "code",
   "execution_count": 13,
   "id": "b0209f3e",
   "metadata": {},
   "outputs": [],
   "source": [
    "hid_size=100\n",
    "model=tf.keras.Sequential([\n",
    "    tf.keras.layers.Dense(hid_size,activation='relu'),\n",
    "    tf.keras.layers.Dense(hid_size,activation='relu'),\n",
    "    tf.keras.layers.Dense(hid_size,activation='relu'),\n",
    "    tf.keras.layers.Dense(hid_size,activation='relu'),\n",
    "    tf.keras.layers.Dense(hid_size,activation='relu'),\n",
    "    tf.keras.layers.Dense(2)\n",
    "])"
   ]
  },
  {
   "cell_type": "code",
   "execution_count": 14,
   "id": "b7ee4e17",
   "metadata": {},
   "outputs": [
    {
     "name": "stdout",
     "output_type": "stream",
     "text": [
      "Epoch 1/50\n",
      "35/35 [==============================] - 1s 7ms/step - loss: 263.3711 - accuracy: 0.5542 - val_loss: 2.6297 - val_accuracy: 0.9675\n",
      "Epoch 2/50\n",
      "35/35 [==============================] - 0s 3ms/step - loss: 3.2343 - accuracy: 0.6409 - val_loss: 1.3134 - val_accuracy: 0.9675\n",
      "Epoch 3/50\n",
      "35/35 [==============================] - 0s 3ms/step - loss: 1.5024 - accuracy: 0.9681 - val_loss: 1.3464 - val_accuracy: 0.9675\n",
      "Epoch 4/50\n",
      "35/35 [==============================] - 0s 3ms/step - loss: 1.5042 - accuracy: 0.9681 - val_loss: 1.3297 - val_accuracy: 0.9675\n"
     ]
    },
    {
     "data": {
      "text/plain": [
       "<keras.callbacks.History at 0x2188da677f0>"
      ]
     },
     "execution_count": 14,
     "metadata": {},
     "output_type": "execute_result"
    }
   ],
   "source": [
    "model.compile(optimizer='adam',loss='mean_squared_error',metrics=['accuracy'])\n",
    "epoches=50\n",
    "batch_size=100\n",
    "early_stopping=tf.keras.callbacks.EarlyStopping(patience=2)  #patience is the maximum number of ignoring(by default 0)\n",
    "model.fit(train_input,\n",
    "          train_target,\n",
    "          batch_size=batch_size,\n",
    "          epochs=epoches,\n",
    "          callbacks=[early_stopping],     #calling a cllback eraly stopping in each epochs\n",
    "          validation_data=(validation_input,validation_target))"
   ]
  },
  {
   "cell_type": "code",
   "execution_count": 15,
   "id": "acf4e811",
   "metadata": {},
   "outputs": [
    {
     "name": "stdout",
     "output_type": "stream",
     "text": [
      "14/14 [==============================] - 0s 1ms/step - loss: 1.5869 - accuracy: 0.9653\n"
     ]
    },
    {
     "data": {
      "text/plain": [
       "[1.586856722831726, 0.9652777910232544]"
      ]
     },
     "execution_count": 15,
     "metadata": {},
     "output_type": "execute_result"
    }
   ],
   "source": [
    "model.evaluate(test_input,test_target) #if we are getting high test accuracy than the vildation accuracy it is just the luck"
   ]
  },
  {
   "cell_type": "code",
   "execution_count": null,
   "id": "7c102fa2",
   "metadata": {},
   "outputs": [],
   "source": []
  }
 ],
 "metadata": {
  "kernelspec": {
   "display_name": "Python [conda env:py3_TF2.0]",
   "language": "python",
   "name": "conda-env-py3_TF2.0-py"
  },
  "language_info": {
   "codemirror_mode": {
    "name": "ipython",
    "version": 3
   },
   "file_extension": ".py",
   "mimetype": "text/x-python",
   "name": "python",
   "nbconvert_exporter": "python",
   "pygments_lexer": "ipython3",
   "version": "3.10.8"
  }
 },
 "nbformat": 4,
 "nbformat_minor": 5
}
